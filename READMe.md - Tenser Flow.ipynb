{
 "cells": [
  {
   "cell_type": "markdown",
   "id": "eaa865fd",
   "metadata": {},
   "source": [
    "# README ~ Tenser Flow"
   ]
  },
  {
   "cell_type": "markdown",
   "id": "2ddc914d",
   "metadata": {},
   "source": [
    "* Project Members & Responsibilities "
   ]
  },
  {
   "cell_type": "code",
   "execution_count": null,
   "id": "aa3fd526",
   "metadata": {},
   "outputs": [],
   "source": [
    "- Taylor Davis ~ Narrative Notebook\n",
    "- Desvaun Drummond ~ Graph\n",
    "- Malek Emami ~ README\n",
    "- Ayana Marsh ~ Technical Notebook\n",
    "- Mya Walker ~ Graph\n",
    "- Maya Sears ~ Graph \n",
    "- Ujjawal Shah ~ Graph"
   ]
  },
  {
   "cell_type": "markdown",
   "id": "0b870a58",
   "metadata": {},
   "source": [
    "* Goals & Description"
   ]
  },
  {
   "cell_type": "code",
   "execution_count": null,
   "id": "41c0f115",
   "metadata": {},
   "outputs": [],
   "source": [
    "Project #2 based on 911 calls Data from Kaggle website findings,\n",
    "We each pushed through at the start, or at a progress made checkpoint \n",
    "and the last push when we completed the Jupyter Notebook Part of the Project.\n",
    "We did the Technical Audience notebook & the Narrative guide Non-Technical Audience Notebook \n",
    "as well as cronstructed 4 graphs pretaining to different subjects regarding the 911 class by area & zipcode etc..."
   ]
  }
 ],
 "metadata": {
  "kernelspec": {
   "display_name": "Python 3 (ipykernel)",
   "language": "python",
   "name": "python3"
  },
  "language_info": {
   "codemirror_mode": {
    "name": "ipython",
    "version": 3
   },
   "file_extension": ".py",
   "mimetype": "text/x-python",
   "name": "python",
   "nbconvert_exporter": "python",
   "pygments_lexer": "ipython3",
   "version": "3.9.12"
  }
 },
 "nbformat": 4,
 "nbformat_minor": 5
}
